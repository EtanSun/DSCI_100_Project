{
 "cells": [
  {
   "cell_type": "markdown",
   "id": "f7d9d36e-b69b-471b-8657-932f022f4a4b",
   "metadata": {},
   "source": [
    "# insert title"
   ]
  },
  {
   "cell_type": "markdown",
   "id": "17f38087-2333-45e3-8c58-a94d1258fb21",
   "metadata": {},
   "source": [
    "## Introduction"
   ]
  },
  {
   "cell_type": "markdown",
   "id": "d1d8ff94-be41-4359-ac34-169e277a3836",
   "metadata": {},
   "source": [
    "paste text here"
   ]
  },
  {
   "cell_type": "markdown",
   "id": "56191fc4-84e6-4036-b698-20c7302de46c",
   "metadata": {},
   "source": [
    "## Methods & Results"
   ]
  },
  {
   "cell_type": "markdown",
   "id": "804832e1-8d6d-4a75-8c6d-2b663a61882b",
   "metadata": {},
   "source": [
    "paste description of method here"
   ]
  },
  {
   "cell_type": "code",
   "execution_count": null,
   "id": "14bc9759-d10b-4b2f-8ec0-83c76138de33",
   "metadata": {},
   "outputs": [],
   "source": [
    "# load libraries\n",
    "library(tidyverse) # loading for analysis\n",
    "library(RColorBrewer) # loading for colorblind friendly graphs\n",
    "options(repr.matrix.max.rows = 5)\n"
   ]
  },
  {
   "cell_type": "code",
   "execution_count": 2,
   "id": "62ec7a75-b28c-4a52-8a02-e649bd8dc992",
   "metadata": {},
   "outputs": [
    {
     "name": "stderr",
     "output_type": "stream",
     "text": [
      "\u001b[1mRows: \u001b[22m\u001b[34m196\u001b[39m \u001b[1mColumns: \u001b[22m\u001b[34m9\u001b[39m\n",
      "\u001b[36m──\u001b[39m \u001b[1mColumn specification\u001b[22m \u001b[36m────────────────────────────────────────────────────────\u001b[39m\n",
      "\u001b[1mDelimiter:\u001b[22m \",\"\n",
      "\u001b[31mchr\u001b[39m (4): experience, hashedEmail, name, gender\n",
      "\u001b[32mdbl\u001b[39m (2): played_hours, age\n",
      "\u001b[33mlgl\u001b[39m (3): subscribe, individualId, organizationName\n",
      "\n",
      "\u001b[36mℹ\u001b[39m Use `spec()` to retrieve the full column specification for this data.\n",
      "\u001b[36mℹ\u001b[39m Specify the column types or set `show_col_types = FALSE` to quiet this message.\n",
      "\u001b[1mRows: \u001b[22m\u001b[34m1535\u001b[39m \u001b[1mColumns: \u001b[22m\u001b[34m5\u001b[39m\n",
      "\u001b[36m──\u001b[39m \u001b[1mColumn specification\u001b[22m \u001b[36m────────────────────────────────────────────────────────\u001b[39m\n",
      "\u001b[1mDelimiter:\u001b[22m \",\"\n",
      "\u001b[31mchr\u001b[39m (3): hashedEmail, start_time, end_time\n",
      "\u001b[32mdbl\u001b[39m (2): original_start_time, original_end_time\n",
      "\n",
      "\u001b[36mℹ\u001b[39m Use `spec()` to retrieve the full column specification for this data.\n",
      "\u001b[36mℹ\u001b[39m Specify the column types or set `show_col_types = FALSE` to quiet this message.\n"
     ]
    }
   ],
   "source": [
    "# load datasets\n",
    "url = 'https://drive.google.com/uc?export=download&id=1Mw9vW0hjTJwRWx0bDXiSpYsO3gKogaPz'\n",
    "url2 = 'https://drive.google.com/uc?export=download&id=14O91N5OlVkvdGxXNJUj5jIsV5RexhzbB'\n",
    "download.file(url, 'players.csv') \n",
    "download.file(url2, 'sessions.csv')\n",
    "\n",
    "players <- read_csv('players.csv') # reading players data\n",
    "sessions <- read_csv('sessions.csv') |>  # reading session data \n",
    "    separate(start_time, into = c('start_date', 'start_time'), sep = ' ') |> # tidying time and date column\n",
    "    separate(end_time, into = c('end_date', 'end_time'), sep = ' ')\n",
    "\n",
    "playdata <- merge(players, sessions, by.x = 'hashedEmail', by.y = 'hashedEmail') # combining datasets\n",
    "\n",
    "set.seed(100) # seed"
   ]
  },
  {
   "cell_type": "markdown",
   "id": "b077408d-30c3-4748-9747-68e114c22f8a",
   "metadata": {},
   "source": [
    "## Discussion"
   ]
  },
  {
   "cell_type": "markdown",
   "id": "87fc8ec8-67f2-4139-b21c-77b56977b69f",
   "metadata": {},
   "source": [
    "stuff"
   ]
  },
  {
   "cell_type": "markdown",
   "id": "390c85dd-faca-4d53-b981-95ad078d165a",
   "metadata": {},
   "source": [
    "## References"
   ]
  },
  {
   "cell_type": "markdown",
   "id": "8e33ec88-3c57-4f3f-b1ce-84fab3eebb26",
   "metadata": {},
   "source": [
    "if needed"
   ]
  },
  {
   "cell_type": "code",
   "execution_count": null,
   "id": "e4c998c4-fd3b-4611-a903-b187e1d7a74e",
   "metadata": {},
   "outputs": [],
   "source": []
  }
 ],
 "metadata": {
  "kernelspec": {
   "display_name": "R",
   "language": "R",
   "name": "ir"
  },
  "language_info": {
   "codemirror_mode": "r",
   "file_extension": ".r",
   "mimetype": "text/x-r-source",
   "name": "R",
   "pygments_lexer": "r",
   "version": "4.3.3"
  }
 },
 "nbformat": 4,
 "nbformat_minor": 5
}
