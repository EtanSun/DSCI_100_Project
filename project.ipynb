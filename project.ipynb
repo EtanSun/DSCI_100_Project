{
 "cells": [
  {
   "cell_type": "markdown",
   "id": "f7d9d36e-b69b-471b-8657-932f022f4a4b",
   "metadata": {},
   "source": [
    "# insert title"
   ]
  },
  {
   "cell_type": "markdown",
   "id": "17f38087-2333-45e3-8c58-a94d1258fb21",
   "metadata": {},
   "source": [
    "## Introduction"
   ]
  },
  {
   "cell_type": "markdown",
   "id": "d1d8ff94-be41-4359-ac34-169e277a3836",
   "metadata": {},
   "source": [
    "The ongoing research done by a research group in the computer science faculty at UBC aims to advance AI technology by using data on players and their behaviours in video games. They created a Minecraft server and are collecting and studying player gameplay, with a goal of collecting over 10,000 hours of data. The objective of their research project is to use the gameplay patterns and data to train AGI (Artificial general intelligence)- like agents. Part of this project includes recruiting players and an efficient strategy is needed in order to recruit players that will contribute many hours of gameplay. Therefore, this project focuses on answering the question: Which kinds of players are most likely to contribtue and play the most amount of hours?"
   ]
  },
  {
   "cell_type": "markdown",
   "id": "56191fc4-84e6-4036-b698-20c7302de46c",
   "metadata": {},
   "source": [
    "## Methods & Results"
   ]
  },
  {
   "cell_type": "markdown",
   "id": "804832e1-8d6d-4a75-8c6d-2b663a61882b",
   "metadata": {},
   "source": [
    "We will be using Regression to answer our question. \n",
    "1 - Beginner\n",
    "2 - Amateur\n",
    "3 - Regular\n",
    "4 - Pro\n",
    "5 - Veteran"
   ]
  },
  {
   "cell_type": "code",
   "execution_count": 2,
   "id": "14bc9759-d10b-4b2f-8ec0-83c76138de33",
   "metadata": {},
   "outputs": [
    {
     "name": "stderr",
     "output_type": "stream",
     "text": [
      "── \u001b[1mAttaching core tidyverse packages\u001b[22m ──────────────────────── tidyverse 2.0.0 ──\n",
      "\u001b[32m✔\u001b[39m \u001b[34mdplyr    \u001b[39m 1.1.4     \u001b[32m✔\u001b[39m \u001b[34mreadr    \u001b[39m 2.1.5\n",
      "\u001b[32m✔\u001b[39m \u001b[34mforcats  \u001b[39m 1.0.0     \u001b[32m✔\u001b[39m \u001b[34mstringr  \u001b[39m 1.5.1\n",
      "\u001b[32m✔\u001b[39m \u001b[34mggplot2  \u001b[39m 3.5.1     \u001b[32m✔\u001b[39m \u001b[34mtibble   \u001b[39m 3.2.1\n",
      "\u001b[32m✔\u001b[39m \u001b[34mlubridate\u001b[39m 1.9.3     \u001b[32m✔\u001b[39m \u001b[34mtidyr    \u001b[39m 1.3.1\n",
      "\u001b[32m✔\u001b[39m \u001b[34mpurrr    \u001b[39m 1.0.2     \n",
      "── \u001b[1mConflicts\u001b[22m ────────────────────────────────────────── tidyverse_conflicts() ──\n",
      "\u001b[31m✖\u001b[39m \u001b[34mdplyr\u001b[39m::\u001b[32mfilter()\u001b[39m masks \u001b[34mstats\u001b[39m::filter()\n",
      "\u001b[31m✖\u001b[39m \u001b[34mdplyr\u001b[39m::\u001b[32mlag()\u001b[39m    masks \u001b[34mstats\u001b[39m::lag()\n",
      "\u001b[36mℹ\u001b[39m Use the conflicted package (\u001b[3m\u001b[34m<http://conflicted.r-lib.org/>\u001b[39m\u001b[23m) to force all conflicts to become errors\n"
     ]
    }
   ],
   "source": [
    "# load libraries\n",
    "library(tidyverse) # loading for analysis\n",
    "library(RColorBrewer) # loading for colorblind friendly graphs\n",
    "options(repr.matrix.max.rows = 5)\n"
   ]
  },
  {
   "cell_type": "code",
   "execution_count": 3,
   "id": "62ec7a75-b28c-4a52-8a02-e649bd8dc992",
   "metadata": {},
   "outputs": [
    {
     "name": "stderr",
     "output_type": "stream",
     "text": [
      "\u001b[1mRows: \u001b[22m\u001b[34m196\u001b[39m \u001b[1mColumns: \u001b[22m\u001b[34m9\u001b[39m\n",
      "\u001b[36m──\u001b[39m \u001b[1mColumn specification\u001b[22m \u001b[36m────────────────────────────────────────────────────────\u001b[39m\n",
      "\u001b[1mDelimiter:\u001b[22m \",\"\n",
      "\u001b[31mchr\u001b[39m (4): experience, hashedEmail, name, gender\n",
      "\u001b[32mdbl\u001b[39m (2): played_hours, age\n",
      "\u001b[33mlgl\u001b[39m (3): subscribe, individualId, organizationName\n",
      "\n",
      "\u001b[36mℹ\u001b[39m Use `spec()` to retrieve the full column specification for this data.\n",
      "\u001b[36mℹ\u001b[39m Specify the column types or set `show_col_types = FALSE` to quiet this message.\n",
      "\u001b[1mRows: \u001b[22m\u001b[34m1535\u001b[39m \u001b[1mColumns: \u001b[22m\u001b[34m5\u001b[39m\n",
      "\u001b[36m──\u001b[39m \u001b[1mColumn specification\u001b[22m \u001b[36m────────────────────────────────────────────────────────\u001b[39m\n",
      "\u001b[1mDelimiter:\u001b[22m \",\"\n",
      "\u001b[31mchr\u001b[39m (3): hashedEmail, start_time, end_time\n",
      "\u001b[32mdbl\u001b[39m (2): original_start_time, original_end_time\n",
      "\n",
      "\u001b[36mℹ\u001b[39m Use `spec()` to retrieve the full column specification for this data.\n",
      "\u001b[36mℹ\u001b[39m Specify the column types or set `show_col_types = FALSE` to quiet this message.\n"
     ]
    },
    {
     "data": {
      "text/html": [
       "<table class=\"dataframe\">\n",
       "<caption>A data.frame: 1535 × 15</caption>\n",
       "<thead>\n",
       "\t<tr><th scope=col>hashedEmail</th><th scope=col>experience</th><th scope=col>subscribe</th><th scope=col>played_hours</th><th scope=col>name</th><th scope=col>gender</th><th scope=col>age</th><th scope=col>individualId</th><th scope=col>organizationName</th><th scope=col>start_date</th><th scope=col>start_time</th><th scope=col>end_date</th><th scope=col>end_time</th><th scope=col>original_start_time</th><th scope=col>original_end_time</th></tr>\n",
       "\t<tr><th scope=col>&lt;chr&gt;</th><th scope=col>&lt;chr&gt;</th><th scope=col>&lt;lgl&gt;</th><th scope=col>&lt;dbl&gt;</th><th scope=col>&lt;chr&gt;</th><th scope=col>&lt;chr&gt;</th><th scope=col>&lt;dbl&gt;</th><th scope=col>&lt;lgl&gt;</th><th scope=col>&lt;lgl&gt;</th><th scope=col>&lt;chr&gt;</th><th scope=col>&lt;chr&gt;</th><th scope=col>&lt;chr&gt;</th><th scope=col>&lt;chr&gt;</th><th scope=col>&lt;dbl&gt;</th><th scope=col>&lt;dbl&gt;</th></tr>\n",
       "</thead>\n",
       "<tbody>\n",
       "\t<tr><td>0088b5e134c3f0498a18c7ea6b8d77b4b0ff1636fc93355ccc95b45423367832</td><td>Regular</td><td> TRUE</td><td>1.5</td><td>Isaac</td><td>Male</td><td>20</td><td>NA</td><td>NA</td><td>23/05/2024</td><td>00:22</td><td>23/05/2024</td><td>01:07</td><td>1.71642e+12</td><td>1.71643e+12</td></tr>\n",
       "\t<tr><td>0088b5e134c3f0498a18c7ea6b8d77b4b0ff1636fc93355ccc95b45423367832</td><td>Regular</td><td> TRUE</td><td>1.5</td><td>Isaac</td><td>Male</td><td>20</td><td>NA</td><td>NA</td><td>22/05/2024</td><td>23:12</td><td>23/05/2024</td><td>00:13</td><td>1.71642e+12</td><td>1.71642e+12</td></tr>\n",
       "\t<tr><td>060aca80f8cfbf1c91553a72f4d5ec8034764b05ab59fe8e1cf0eee9a7b67967</td><td>Pro    </td><td>FALSE</td><td>0.4</td><td>Lyra </td><td>Male</td><td>21</td><td>NA</td><td>NA</td><td>28/06/2024</td><td>04:28</td><td>28/06/2024</td><td>04:58</td><td>1.71955e+12</td><td>1.71955e+12</td></tr>\n",
       "\t<tr><td>⋮</td><td>⋮</td><td>⋮</td><td>⋮</td><td>⋮</td><td>⋮</td><td>⋮</td><td>⋮</td><td>⋮</td><td>⋮</td><td>⋮</td><td>⋮</td><td>⋮</td><td>⋮</td><td>⋮</td></tr>\n",
       "\t<tr><td>fe218a05c6c3fc6326f4f151e8cb75a2a9fa29e22b110d4c311fb58fb211f471</td><td>Amateur </td><td>TRUE</td><td>0.1</td><td>Fatima</td><td>Male</td><td>17</td><td>NA</td><td>NA</td><td>14/09/2024</td><td>15:33</td><td>14/09/2024</td><td>15:42</td><td>1.72633e+12</td><td>1.72633e+12</td></tr>\n",
       "\t<tr><td>fef4e1bed8c3f6dcd7bcd39ab21bd402386155b2ff8c8e53683e1d2793bf1ed1</td><td>Beginner</td><td>TRUE</td><td>1.1</td><td>Caden </td><td>Male</td><td>20</td><td>NA</td><td>NA</td><td>26/04/2024</td><td>09:11</td><td>26/04/2024</td><td>10:23</td><td>1.71412e+12</td><td>1.71413e+12</td></tr>\n",
       "</tbody>\n",
       "</table>\n"
      ],
      "text/latex": [
       "A data.frame: 1535 × 15\n",
       "\\begin{tabular}{lllllllllllllll}\n",
       " hashedEmail & experience & subscribe & played\\_hours & name & gender & age & individualId & organizationName & start\\_date & start\\_time & end\\_date & end\\_time & original\\_start\\_time & original\\_end\\_time\\\\\n",
       " <chr> & <chr> & <lgl> & <dbl> & <chr> & <chr> & <dbl> & <lgl> & <lgl> & <chr> & <chr> & <chr> & <chr> & <dbl> & <dbl>\\\\\n",
       "\\hline\n",
       "\t 0088b5e134c3f0498a18c7ea6b8d77b4b0ff1636fc93355ccc95b45423367832 & Regular &  TRUE & 1.5 & Isaac & Male & 20 & NA & NA & 23/05/2024 & 00:22 & 23/05/2024 & 01:07 & 1.71642e+12 & 1.71643e+12\\\\\n",
       "\t 0088b5e134c3f0498a18c7ea6b8d77b4b0ff1636fc93355ccc95b45423367832 & Regular &  TRUE & 1.5 & Isaac & Male & 20 & NA & NA & 22/05/2024 & 23:12 & 23/05/2024 & 00:13 & 1.71642e+12 & 1.71642e+12\\\\\n",
       "\t 060aca80f8cfbf1c91553a72f4d5ec8034764b05ab59fe8e1cf0eee9a7b67967 & Pro     & FALSE & 0.4 & Lyra  & Male & 21 & NA & NA & 28/06/2024 & 04:28 & 28/06/2024 & 04:58 & 1.71955e+12 & 1.71955e+12\\\\\n",
       "\t ⋮ & ⋮ & ⋮ & ⋮ & ⋮ & ⋮ & ⋮ & ⋮ & ⋮ & ⋮ & ⋮ & ⋮ & ⋮ & ⋮ & ⋮\\\\\n",
       "\t fe218a05c6c3fc6326f4f151e8cb75a2a9fa29e22b110d4c311fb58fb211f471 & Amateur  & TRUE & 0.1 & Fatima & Male & 17 & NA & NA & 14/09/2024 & 15:33 & 14/09/2024 & 15:42 & 1.72633e+12 & 1.72633e+12\\\\\n",
       "\t fef4e1bed8c3f6dcd7bcd39ab21bd402386155b2ff8c8e53683e1d2793bf1ed1 & Beginner & TRUE & 1.1 & Caden  & Male & 20 & NA & NA & 26/04/2024 & 09:11 & 26/04/2024 & 10:23 & 1.71412e+12 & 1.71413e+12\\\\\n",
       "\\end{tabular}\n"
      ],
      "text/markdown": [
       "\n",
       "A data.frame: 1535 × 15\n",
       "\n",
       "| hashedEmail &lt;chr&gt; | experience &lt;chr&gt; | subscribe &lt;lgl&gt; | played_hours &lt;dbl&gt; | name &lt;chr&gt; | gender &lt;chr&gt; | age &lt;dbl&gt; | individualId &lt;lgl&gt; | organizationName &lt;lgl&gt; | start_date &lt;chr&gt; | start_time &lt;chr&gt; | end_date &lt;chr&gt; | end_time &lt;chr&gt; | original_start_time &lt;dbl&gt; | original_end_time &lt;dbl&gt; |\n",
       "|---|---|---|---|---|---|---|---|---|---|---|---|---|---|---|\n",
       "| 0088b5e134c3f0498a18c7ea6b8d77b4b0ff1636fc93355ccc95b45423367832 | Regular |  TRUE | 1.5 | Isaac | Male | 20 | NA | NA | 23/05/2024 | 00:22 | 23/05/2024 | 01:07 | 1.71642e+12 | 1.71643e+12 |\n",
       "| 0088b5e134c3f0498a18c7ea6b8d77b4b0ff1636fc93355ccc95b45423367832 | Regular |  TRUE | 1.5 | Isaac | Male | 20 | NA | NA | 22/05/2024 | 23:12 | 23/05/2024 | 00:13 | 1.71642e+12 | 1.71642e+12 |\n",
       "| 060aca80f8cfbf1c91553a72f4d5ec8034764b05ab59fe8e1cf0eee9a7b67967 | Pro     | FALSE | 0.4 | Lyra  | Male | 21 | NA | NA | 28/06/2024 | 04:28 | 28/06/2024 | 04:58 | 1.71955e+12 | 1.71955e+12 |\n",
       "| ⋮ | ⋮ | ⋮ | ⋮ | ⋮ | ⋮ | ⋮ | ⋮ | ⋮ | ⋮ | ⋮ | ⋮ | ⋮ | ⋮ | ⋮ |\n",
       "| fe218a05c6c3fc6326f4f151e8cb75a2a9fa29e22b110d4c311fb58fb211f471 | Amateur  | TRUE | 0.1 | Fatima | Male | 17 | NA | NA | 14/09/2024 | 15:33 | 14/09/2024 | 15:42 | 1.72633e+12 | 1.72633e+12 |\n",
       "| fef4e1bed8c3f6dcd7bcd39ab21bd402386155b2ff8c8e53683e1d2793bf1ed1 | Beginner | TRUE | 1.1 | Caden  | Male | 20 | NA | NA | 26/04/2024 | 09:11 | 26/04/2024 | 10:23 | 1.71412e+12 | 1.71413e+12 |\n",
       "\n"
      ],
      "text/plain": [
       "     hashedEmail                                                     \n",
       "1    0088b5e134c3f0498a18c7ea6b8d77b4b0ff1636fc93355ccc95b45423367832\n",
       "2    0088b5e134c3f0498a18c7ea6b8d77b4b0ff1636fc93355ccc95b45423367832\n",
       "3    060aca80f8cfbf1c91553a72f4d5ec8034764b05ab59fe8e1cf0eee9a7b67967\n",
       "⋮    ⋮                                                               \n",
       "1534 fe218a05c6c3fc6326f4f151e8cb75a2a9fa29e22b110d4c311fb58fb211f471\n",
       "1535 fef4e1bed8c3f6dcd7bcd39ab21bd402386155b2ff8c8e53683e1d2793bf1ed1\n",
       "     experience subscribe played_hours name   gender age individualId\n",
       "1    Regular     TRUE     1.5          Isaac  Male   20  NA          \n",
       "2    Regular     TRUE     1.5          Isaac  Male   20  NA          \n",
       "3    Pro        FALSE     0.4          Lyra   Male   21  NA          \n",
       "⋮    ⋮          ⋮         ⋮            ⋮      ⋮      ⋮   ⋮           \n",
       "1534 Amateur    TRUE      0.1          Fatima Male   17  NA          \n",
       "1535 Beginner   TRUE      1.1          Caden  Male   20  NA          \n",
       "     organizationName start_date start_time end_date   end_time\n",
       "1    NA               23/05/2024 00:22      23/05/2024 01:07   \n",
       "2    NA               22/05/2024 23:12      23/05/2024 00:13   \n",
       "3    NA               28/06/2024 04:28      28/06/2024 04:58   \n",
       "⋮    ⋮                ⋮          ⋮          ⋮          ⋮       \n",
       "1534 NA               14/09/2024 15:33      14/09/2024 15:42   \n",
       "1535 NA               26/04/2024 09:11      26/04/2024 10:23   \n",
       "     original_start_time original_end_time\n",
       "1    1.71642e+12         1.71643e+12      \n",
       "2    1.71642e+12         1.71642e+12      \n",
       "3    1.71955e+12         1.71955e+12      \n",
       "⋮    ⋮                   ⋮                \n",
       "1534 1.72633e+12         1.72633e+12      \n",
       "1535 1.71412e+12         1.71413e+12      "
      ]
     },
     "metadata": {},
     "output_type": "display_data"
    }
   ],
   "source": [
    "# load datasets\n",
    "url = 'https://drive.google.com/uc?export=download&id=1Mw9vW0hjTJwRWx0bDXiSpYsO3gKogaPz'\n",
    "url2 = 'https://drive.google.com/uc?export=download&id=14O91N5OlVkvdGxXNJUj5jIsV5RexhzbB'\n",
    "download.file(url, 'players.csv') \n",
    "download.file(url2, 'sessions.csv')\n",
    "\n",
    "players <- read_csv('players.csv') # reading players data\n",
    "sessions <- read_csv('sessions.csv') |>  # reading session data \n",
    "    separate(start_time, into = c('start_date', 'start_time'), sep = ' ') |> # tidying time and date column\n",
    "    separate(end_time, into = c('end_date', 'end_time'), sep = ' ')\n",
    "\n",
    "playdata <- merge(players, sessions, by.x = 'hashedEmail', by.y = 'hashedEmail') # combining datasets\n",
    "\n",
    "set.seed(100) # seed\n",
    "\n",
    "playdata"
   ]
  },
  {
   "cell_type": "markdown",
   "id": "b077408d-30c3-4748-9747-68e114c22f8a",
   "metadata": {},
   "source": [
    "## Discussion"
   ]
  },
  {
   "cell_type": "markdown",
   "id": "87fc8ec8-67f2-4139-b21c-77b56977b69f",
   "metadata": {},
   "source": [
    "stuff"
   ]
  },
  {
   "cell_type": "markdown",
   "id": "390c85dd-faca-4d53-b981-95ad078d165a",
   "metadata": {},
   "source": [
    "## References"
   ]
  },
  {
   "cell_type": "markdown",
   "id": "8e33ec88-3c57-4f3f-b1ce-84fab3eebb26",
   "metadata": {},
   "source": [
    "if needed"
   ]
  },
  {
   "cell_type": "code",
   "execution_count": null,
   "id": "e4c998c4-fd3b-4611-a903-b187e1d7a74e",
   "metadata": {},
   "outputs": [],
   "source": []
  }
 ],
 "metadata": {
  "kernelspec": {
   "display_name": "R",
   "language": "R",
   "name": "ir"
  },
  "language_info": {
   "codemirror_mode": "r",
   "file_extension": ".r",
   "mimetype": "text/x-r-source",
   "name": "R",
   "pygments_lexer": "r",
   "version": "4.3.3"
  }
 },
 "nbformat": 4,
 "nbformat_minor": 5
}
