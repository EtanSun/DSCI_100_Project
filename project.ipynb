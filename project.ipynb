{
 "cells": [
  {
   "cell_type": "markdown",
   "id": "f7d9d36e-b69b-471b-8657-932f022f4a4b",
   "metadata": {},
   "source": [
    "# Analyzing Play Time Contribution by Different Player Types"
   ]
  },
  {
   "cell_type": "markdown",
   "id": "17f38087-2333-45e3-8c58-a94d1258fb21",
   "metadata": {},
   "source": [
    "## Introduction"
   ]
  },
  {
   "cell_type": "markdown",
   "id": "d1d8ff94-be41-4359-ac34-169e277a3836",
   "metadata": {},
   "source": [
    "PLAI, an AI research group within the Faculty of Computer Science at UBC, has set up a Minecraft server to develop an AI that surpasses current technological constraints. Through this server, the researchers have gathered data on participants' in-game actions and communication, with the goal of collecting over 10,000 hours of data to create a complex AI that replicates player-like behaviour within the virtual world, or similarly, an AGI (Artificial General Intelligence)-like agent. However, to gather more significant data, PLAI researchers aim to identify which players, or player types, contribute the most hours of gameplay. Therefore, this analysis will address the following question: Can we determine which players are most likely to contribute the most hours of gameplay based on their age and experience with the game?"
   ]
  },
  {
   "cell_type": "markdown",
   "id": "5a5988d8-3f97-4259-acc1-af26a109c117",
   "metadata": {},
   "source": [
    "To answer the question, this project uses two datasets containing player information and session details: ```players.csv``` and ```sessions.csv```.\n",
    "\n",
    "*[ ] indicates variable data type\n",
    "\n",
    "---\n",
    "\n",
    "```players.csv```: A dataset containing identifying information provided during recruitment for all participants, including their total playtime. It contains 196 **observations** and 9 **variables**.\n",
    "\n",
    "- ```experience```: Participant's self-reported Minecraft experience level [Character/Categorical] - (Amateur, Beginner, Regular, Pro, Veteran).\n",
    "- ```subscribe```: Whether the participant is subscribed to PLAI emails [Character].\n",
    "- ```hashedEmail```: The participant's provided email address, encrypted for privacy [Character]. \n",
    "- ```played_hours```: Total number of hours the participant has played on the server [Double].\n",
    "- ```name```: The participant's provided name [Character].\n",
    "- ```gender```: The participant's identified gender [Character].\n",
    "- ```age```: The participant's age [Double].\n",
    "- ```IndividualID```: The participant's ID; another means of identification [Logical].*\n",
    "- ```organizationName```: The participant's affiliated organization [Logical].*\n",
    "\n",
    "*Note: **IndividualID** and **organizationName** are labelled as NA and are not provided in the dataset.\n",
    "\n",
    "---\n",
    "\n",
    "\n",
    "```sessions.csv```: A dataset containing each play session per individual, including their start and end times. It contains 1535 **observations** and 5 **variables**. \n",
    "\n",
    "- ```hashedEmail```: The participant's provided email address, encrypted for privacy [Character].\n",
    "- ```start_time```: Session start date (dd/mm/yyyy) and time (24hr) [Character].\n",
    "- ```end_time```: Session end date (dd/mm/yyyy) and time (24hr) [Character].\n",
    "- ```original_start_time```: Session start time in UNIX timestamp - seconds since Jan 1st, 1970 (UTC) [Double].\n",
    "- ```original_end_time```: Session end time in UNIX timestamp - seconds since Jan 1st, 1970 (UTC) [Double].\n",
    "\n",
    "---"
   ]
  },
  {
   "cell_type": "markdown",
   "id": "56191fc4-84e6-4036-b698-20c7302de46c",
   "metadata": {},
   "source": [
    "## Methods & Results"
   ]
  },
  {
   "cell_type": "markdown",
   "id": "804832e1-8d6d-4a75-8c6d-2b663a61882b",
   "metadata": {},
   "source": [
    "We will use **KNN-Classification** with `age` and `played_hours` as predictor variables, identifying the types of players that have the highest playtime. To address the question, we will use the categorical variable, `experience`, to classify players as **Amateurs**, **Beginners**, **Regulars**, **Pros**, or **Veterans**."
   ]
  },
  {
   "cell_type": "code",
   "execution_count": 2,
   "id": "14bc9759-d10b-4b2f-8ec0-83c76138de33",
   "metadata": {},
   "outputs": [
    {
     "name": "stderr",
     "output_type": "stream",
     "text": [
      "── \u001b[1mAttaching core tidyverse packages\u001b[22m ──────────────────────── tidyverse 2.0.0 ──\n",
      "\u001b[32m✔\u001b[39m \u001b[34mdplyr    \u001b[39m 1.1.4     \u001b[32m✔\u001b[39m \u001b[34mreadr    \u001b[39m 2.1.5\n",
      "\u001b[32m✔\u001b[39m \u001b[34mforcats  \u001b[39m 1.0.0     \u001b[32m✔\u001b[39m \u001b[34mstringr  \u001b[39m 1.5.1\n",
      "\u001b[32m✔\u001b[39m \u001b[34mggplot2  \u001b[39m 3.5.1     \u001b[32m✔\u001b[39m \u001b[34mtibble   \u001b[39m 3.2.1\n",
      "\u001b[32m✔\u001b[39m \u001b[34mlubridate\u001b[39m 1.9.3     \u001b[32m✔\u001b[39m \u001b[34mtidyr    \u001b[39m 1.3.1\n",
      "\u001b[32m✔\u001b[39m \u001b[34mpurrr    \u001b[39m 1.0.2     \n",
      "── \u001b[1mConflicts\u001b[22m ────────────────────────────────────────── tidyverse_conflicts() ──\n",
      "\u001b[31m✖\u001b[39m \u001b[34mdplyr\u001b[39m::\u001b[32mfilter()\u001b[39m masks \u001b[34mstats\u001b[39m::filter()\n",
      "\u001b[31m✖\u001b[39m \u001b[34mdplyr\u001b[39m::\u001b[32mlag()\u001b[39m    masks \u001b[34mstats\u001b[39m::lag()\n",
      "\u001b[36mℹ\u001b[39m Use the conflicted package (\u001b[3m\u001b[34m<http://conflicted.r-lib.org/>\u001b[39m\u001b[23m) to force all conflicts to become errors\n",
      "── \u001b[1mAttaching packages\u001b[22m ────────────────────────────────────── tidymodels 1.1.1 ──\n",
      "\n",
      "\u001b[32m✔\u001b[39m \u001b[34mbroom       \u001b[39m 1.0.6     \u001b[32m✔\u001b[39m \u001b[34mrsample     \u001b[39m 1.2.1\n",
      "\u001b[32m✔\u001b[39m \u001b[34mdials       \u001b[39m 1.3.0     \u001b[32m✔\u001b[39m \u001b[34mtune        \u001b[39m 1.1.2\n",
      "\u001b[32m✔\u001b[39m \u001b[34minfer       \u001b[39m 1.0.7     \u001b[32m✔\u001b[39m \u001b[34mworkflows   \u001b[39m 1.1.4\n",
      "\u001b[32m✔\u001b[39m \u001b[34mmodeldata   \u001b[39m 1.4.0     \u001b[32m✔\u001b[39m \u001b[34mworkflowsets\u001b[39m 1.0.1\n",
      "\u001b[32m✔\u001b[39m \u001b[34mparsnip     \u001b[39m 1.2.1     \u001b[32m✔\u001b[39m \u001b[34myardstick   \u001b[39m 1.3.1\n",
      "\u001b[32m✔\u001b[39m \u001b[34mrecipes     \u001b[39m 1.1.0     \n",
      "\n",
      "── \u001b[1mConflicts\u001b[22m ───────────────────────────────────────── tidymodels_conflicts() ──\n",
      "\u001b[31m✖\u001b[39m \u001b[34mscales\u001b[39m::\u001b[32mdiscard()\u001b[39m masks \u001b[34mpurrr\u001b[39m::discard()\n",
      "\u001b[31m✖\u001b[39m \u001b[34mdplyr\u001b[39m::\u001b[32mfilter()\u001b[39m   masks \u001b[34mstats\u001b[39m::filter()\n",
      "\u001b[31m✖\u001b[39m \u001b[34mrecipes\u001b[39m::\u001b[32mfixed()\u001b[39m  masks \u001b[34mstringr\u001b[39m::fixed()\n",
      "\u001b[31m✖\u001b[39m \u001b[34mdplyr\u001b[39m::\u001b[32mlag()\u001b[39m      masks \u001b[34mstats\u001b[39m::lag()\n",
      "\u001b[31m✖\u001b[39m \u001b[34myardstick\u001b[39m::\u001b[32mspec()\u001b[39m masks \u001b[34mreadr\u001b[39m::spec()\n",
      "\u001b[31m✖\u001b[39m \u001b[34mrecipes\u001b[39m::\u001b[32mstep()\u001b[39m   masks \u001b[34mstats\u001b[39m::step()\n",
      "\u001b[34m•\u001b[39m Use \u001b[32mtidymodels_prefer()\u001b[39m to resolve common conflicts.\n",
      "\n"
     ]
    }
   ],
   "source": [
    "# load libraries\n",
    "\n",
    "#Contains most functions needed for analysis\n",
    "library(tidyverse) \n",
    "\n",
    "#To obtain colors for visualization: Colorblind friendly Palettes\n",
    "library(RColorBrewer) \n",
    "\n",
    "\n",
    "#Contains the functions to create a model\n",
    "library(tidymodels)\n",
    "\n",
    "#Controls how R objects are displayed. Enhances the details of outputs by indirectly formatting how they appear (ex. options). \n",
    "library(repr)\n",
    "\n",
    "#To obtain a maximum of 5 rows per data frame\n",
    "options(repr.matrix.max.rows = 5) "
   ]
  },
  {
   "cell_type": "code",
   "execution_count": 4,
   "id": "62ec7a75-b28c-4a52-8a02-e649bd8dc992",
   "metadata": {},
   "outputs": [
    {
     "name": "stderr",
     "output_type": "stream",
     "text": [
      "\u001b[1mRows: \u001b[22m\u001b[34m196\u001b[39m \u001b[1mColumns: \u001b[22m\u001b[34m9\u001b[39m\n",
      "\u001b[36m──\u001b[39m \u001b[1mColumn specification\u001b[22m \u001b[36m────────────────────────────────────────────────────────\u001b[39m\n",
      "\u001b[1mDelimiter:\u001b[22m \",\"\n",
      "\u001b[31mchr\u001b[39m (4): experience, hashedEmail, name, gender\n",
      "\u001b[32mdbl\u001b[39m (2): played_hours, age\n",
      "\u001b[33mlgl\u001b[39m (3): subscribe, individualId, organizationName\n",
      "\n",
      "\u001b[36mℹ\u001b[39m Use `spec()` to retrieve the full column specification for this data.\n",
      "\u001b[36mℹ\u001b[39m Specify the column types or set `show_col_types = FALSE` to quiet this message.\n",
      "\u001b[1mRows: \u001b[22m\u001b[34m1535\u001b[39m \u001b[1mColumns: \u001b[22m\u001b[34m5\u001b[39m\n",
      "\u001b[36m──\u001b[39m \u001b[1mColumn specification\u001b[22m \u001b[36m────────────────────────────────────────────────────────\u001b[39m\n",
      "\u001b[1mDelimiter:\u001b[22m \",\"\n",
      "\u001b[31mchr\u001b[39m (3): hashedEmail, start_time, end_time\n",
      "\u001b[32mdbl\u001b[39m (2): original_start_time, original_end_time\n",
      "\n",
      "\u001b[36mℹ\u001b[39m Use `spec()` to retrieve the full column specification for this data.\n",
      "\u001b[36mℹ\u001b[39m Specify the column types or set `show_col_types = FALSE` to quiet this message.\n"
     ]
    }
   ],
   "source": [
    "#Loading both datasets (players and session data) into the datafile. \n",
    "players <- read_csv (\"https://drive.google.com/uc?export=download&id=1Mw9vW0hjTJwRWx0bDXiSpYsO3gKogaPz\")\n",
    "\n",
    "sessions <- read_csv (\"https://drive.google.com/uc?export=download&id=14O91N5OlVkvdGxXNJUj5jIsV5RexhzbB\")\n",
    "\n",
    "\n",
    "\n",
    "\n",
    "\n",
    "# head(playdata)"
   ]
  },
  {
   "cell_type": "code",
   "execution_count": 55,
   "id": "b7a57e94-ad70-45a3-90cc-d5f8979d6242",
   "metadata": {},
   "outputs": [
    {
     "data": {
      "text/html": [
       "<table class=\"dataframe\">\n",
       "<caption>A data.frame: 6 × 6</caption>\n",
       "<thead>\n",
       "\t<tr><th></th><th scope=col>experience</th><th scope=col>played_hours</th><th scope=col>age</th><th scope=col>start_time</th><th scope=col>end_time</th><th scope=col>difference</th></tr>\n",
       "\t<tr><th></th><th scope=col>&lt;chr&gt;</th><th scope=col>&lt;dbl&gt;</th><th scope=col>&lt;dbl&gt;</th><th scope=col>&lt;dttm&gt;</th><th scope=col>&lt;dttm&gt;</th><th scope=col>&lt;drtn&gt;</th></tr>\n",
       "</thead>\n",
       "<tbody>\n",
       "\t<tr><th scope=row>1</th><td>Regular</td><td>223.1</td><td>17</td><td>2024-06-14 04:13:00</td><td>2024-06-14 05:31:00</td><td> 78 mins</td></tr>\n",
       "\t<tr><th scope=row>2</th><td>Regular</td><td>223.1</td><td>17</td><td>2024-05-07 00:25:00</td><td>2024-05-07 01:41:00</td><td> 76 mins</td></tr>\n",
       "\t<tr><th scope=row>3</th><td>Regular</td><td>223.1</td><td>17</td><td>2024-06-23 15:08:00</td><td>2024-06-23 17:10:00</td><td>122 mins</td></tr>\n",
       "\t<tr><th scope=row>⋮</th><td>⋮</td><td>⋮</td><td>⋮</td><td>⋮</td><td>⋮</td><td>⋮</td></tr>\n",
       "\t<tr><th scope=row>5</th><td>Regular</td><td>223.1</td><td>17</td><td>2024-06-17 02:25:00</td><td>2024-06-17 03:38:00</td><td>73 mins</td></tr>\n",
       "\t<tr><th scope=row>6</th><td>Regular</td><td>223.1</td><td>17</td><td>2024-08-19 03:52:00</td><td>2024-08-19 04:48:00</td><td>56 mins</td></tr>\n",
       "</tbody>\n",
       "</table>\n"
      ],
      "text/latex": [
       "A data.frame: 6 × 6\n",
       "\\begin{tabular}{r|llllll}\n",
       "  & experience & played\\_hours & age & start\\_time & end\\_time & difference\\\\\n",
       "  & <chr> & <dbl> & <dbl> & <dttm> & <dttm> & <drtn>\\\\\n",
       "\\hline\n",
       "\t1 & Regular & 223.1 & 17 & 2024-06-14 04:13:00 & 2024-06-14 05:31:00 &  78 mins\\\\\n",
       "\t2 & Regular & 223.1 & 17 & 2024-05-07 00:25:00 & 2024-05-07 01:41:00 &  76 mins\\\\\n",
       "\t3 & Regular & 223.1 & 17 & 2024-06-23 15:08:00 & 2024-06-23 17:10:00 & 122 mins\\\\\n",
       "\t⋮ & ⋮ & ⋮ & ⋮ & ⋮ & ⋮ & ⋮\\\\\n",
       "\t5 & Regular & 223.1 & 17 & 2024-06-17 02:25:00 & 2024-06-17 03:38:00 & 73 mins\\\\\n",
       "\t6 & Regular & 223.1 & 17 & 2024-08-19 03:52:00 & 2024-08-19 04:48:00 & 56 mins\\\\\n",
       "\\end{tabular}\n"
      ],
      "text/markdown": [
       "\n",
       "A data.frame: 6 × 6\n",
       "\n",
       "| <!--/--> | experience &lt;chr&gt; | played_hours &lt;dbl&gt; | age &lt;dbl&gt; | start_time &lt;dttm&gt; | end_time &lt;dttm&gt; | difference &lt;drtn&gt; |\n",
       "|---|---|---|---|---|---|---|\n",
       "| 1 | Regular | 223.1 | 17 | 2024-06-14 04:13:00 | 2024-06-14 05:31:00 |  78 mins |\n",
       "| 2 | Regular | 223.1 | 17 | 2024-05-07 00:25:00 | 2024-05-07 01:41:00 |  76 mins |\n",
       "| 3 | Regular | 223.1 | 17 | 2024-06-23 15:08:00 | 2024-06-23 17:10:00 | 122 mins |\n",
       "| ⋮ | ⋮ | ⋮ | ⋮ | ⋮ | ⋮ | ⋮ |\n",
       "| 5 | Regular | 223.1 | 17 | 2024-06-17 02:25:00 | 2024-06-17 03:38:00 | 73 mins |\n",
       "| 6 | Regular | 223.1 | 17 | 2024-08-19 03:52:00 | 2024-08-19 04:48:00 | 56 mins |\n",
       "\n"
      ],
      "text/plain": [
       "  experience played_hours age start_time          end_time           \n",
       "1 Regular    223.1        17  2024-06-14 04:13:00 2024-06-14 05:31:00\n",
       "2 Regular    223.1        17  2024-05-07 00:25:00 2024-05-07 01:41:00\n",
       "3 Regular    223.1        17  2024-06-23 15:08:00 2024-06-23 17:10:00\n",
       "⋮ ⋮          ⋮            ⋮   ⋮                   ⋮                  \n",
       "5 Regular    223.1        17  2024-06-17 02:25:00 2024-06-17 03:38:00\n",
       "6 Regular    223.1        17  2024-08-19 03:52:00 2024-08-19 04:48:00\n",
       "  difference\n",
       "1  78 mins  \n",
       "2  76 mins  \n",
       "3 122 mins  \n",
       "⋮ ⋮         \n",
       "5 73 mins   \n",
       "6 56 mins   "
      ]
     },
     "metadata": {},
     "output_type": "display_data"
    },
    {
     "data": {
      "text/html": [
       "<table class=\"dataframe\">\n",
       "<caption>A data.frame: 6 × 6</caption>\n",
       "<thead>\n",
       "\t<tr><th></th><th scope=col>experience</th><th scope=col>played_hours</th><th scope=col>age</th><th scope=col>start_time</th><th scope=col>end_time</th><th scope=col>difference</th></tr>\n",
       "\t<tr><th></th><th scope=col>&lt;chr&gt;</th><th scope=col>&lt;dbl&gt;</th><th scope=col>&lt;dbl&gt;</th><th scope=col>&lt;dttm&gt;</th><th scope=col>&lt;dttm&gt;</th><th scope=col>&lt;drtn&gt;</th></tr>\n",
       "</thead>\n",
       "<tbody>\n",
       "\t<tr><th scope=row>1528</th><td>Veteran</td><td>0</td><td>17</td><td>2024-07-18 04:57:00</td><td>2024-07-18 05:02:00</td><td>5 mins</td></tr>\n",
       "\t<tr><th scope=row>1529</th><td>Amateur</td><td>0</td><td>17</td><td>2024-06-30 00:46:00</td><td>2024-06-30 00:51:00</td><td>5 mins</td></tr>\n",
       "\t<tr><th scope=row>1530</th><td>Amateur</td><td>0</td><td>17</td><td>2024-06-27 22:59:00</td><td>2024-06-27 23:04:00</td><td>5 mins</td></tr>\n",
       "\t<tr><th scope=row>⋮</th><td>⋮</td><td>⋮</td><td>⋮</td><td>⋮</td><td>⋮</td><td>⋮</td></tr>\n",
       "\t<tr><th scope=row>1532</th><td>Regular </td><td>0</td><td>17</td><td>2024-09-04 23:01:00</td><td>2024-09-04 23:07:00</td><td>6 mins</td></tr>\n",
       "\t<tr><th scope=row>1533</th><td>Beginner</td><td>0</td><td>17</td><td>2024-09-08 20:19:00</td><td>2024-09-08 20:24:00</td><td>5 mins</td></tr>\n",
       "</tbody>\n",
       "</table>\n"
      ],
      "text/latex": [
       "A data.frame: 6 × 6\n",
       "\\begin{tabular}{r|llllll}\n",
       "  & experience & played\\_hours & age & start\\_time & end\\_time & difference\\\\\n",
       "  & <chr> & <dbl> & <dbl> & <dttm> & <dttm> & <drtn>\\\\\n",
       "\\hline\n",
       "\t1528 & Veteran & 0 & 17 & 2024-07-18 04:57:00 & 2024-07-18 05:02:00 & 5 mins\\\\\n",
       "\t1529 & Amateur & 0 & 17 & 2024-06-30 00:46:00 & 2024-06-30 00:51:00 & 5 mins\\\\\n",
       "\t1530 & Amateur & 0 & 17 & 2024-06-27 22:59:00 & 2024-06-27 23:04:00 & 5 mins\\\\\n",
       "\t⋮ & ⋮ & ⋮ & ⋮ & ⋮ & ⋮ & ⋮\\\\\n",
       "\t1532 & Regular  & 0 & 17 & 2024-09-04 23:01:00 & 2024-09-04 23:07:00 & 6 mins\\\\\n",
       "\t1533 & Beginner & 0 & 17 & 2024-09-08 20:19:00 & 2024-09-08 20:24:00 & 5 mins\\\\\n",
       "\\end{tabular}\n"
      ],
      "text/markdown": [
       "\n",
       "A data.frame: 6 × 6\n",
       "\n",
       "| <!--/--> | experience &lt;chr&gt; | played_hours &lt;dbl&gt; | age &lt;dbl&gt; | start_time &lt;dttm&gt; | end_time &lt;dttm&gt; | difference &lt;drtn&gt; |\n",
       "|---|---|---|---|---|---|---|\n",
       "| 1528 | Veteran | 0 | 17 | 2024-07-18 04:57:00 | 2024-07-18 05:02:00 | 5 mins |\n",
       "| 1529 | Amateur | 0 | 17 | 2024-06-30 00:46:00 | 2024-06-30 00:51:00 | 5 mins |\n",
       "| 1530 | Amateur | 0 | 17 | 2024-06-27 22:59:00 | 2024-06-27 23:04:00 | 5 mins |\n",
       "| ⋮ | ⋮ | ⋮ | ⋮ | ⋮ | ⋮ | ⋮ |\n",
       "| 1532 | Regular  | 0 | 17 | 2024-09-04 23:01:00 | 2024-09-04 23:07:00 | 6 mins |\n",
       "| 1533 | Beginner | 0 | 17 | 2024-09-08 20:19:00 | 2024-09-08 20:24:00 | 5 mins |\n",
       "\n"
      ],
      "text/plain": [
       "     experience played_hours age start_time          end_time           \n",
       "1528 Veteran    0            17  2024-07-18 04:57:00 2024-07-18 05:02:00\n",
       "1529 Amateur    0            17  2024-06-30 00:46:00 2024-06-30 00:51:00\n",
       "1530 Amateur    0            17  2024-06-27 22:59:00 2024-06-27 23:04:00\n",
       "⋮    ⋮          ⋮            ⋮   ⋮                   ⋮                  \n",
       "1532 Regular    0            17  2024-09-04 23:01:00 2024-09-04 23:07:00\n",
       "1533 Beginner   0            17  2024-09-08 20:19:00 2024-09-08 20:24:00\n",
       "     difference\n",
       "1528 5 mins    \n",
       "1529 5 mins    \n",
       "1530 5 mins    \n",
       "⋮    ⋮         \n",
       "1532 6 mins    \n",
       "1533 5 mins    "
      ]
     },
     "metadata": {},
     "output_type": "display_data"
    }
   ],
   "source": [
    "#Setting the Seed\n",
    "set.seed (100)\n",
    "\n",
    "\n",
    "#Wrangling the data - Begin with removing unknown columns in players\n",
    "players_no_unknown <- players |>\n",
    "select (-individualId, -organizationName)\n",
    "\n",
    "#Merging sessions and players_no_unknown together based on matches of the hashedEmail observation\n",
    "playdate <- merge (x = players_no_unknown, y = sessions, by = \"hashedEmail\", all = TRUE)\n",
    "\n",
    "#Select the columns of interest (experience, played_hours, age, start_time, end_time)\n",
    "playdate_select <- playdate |>\n",
    "select (experience, played_hours, age, start_time, end_time)\n",
    "\n",
    "#Remove all instances where the start time or end time is NA. \n",
    "playdate_no_NA <- playdate_select |>\n",
    "filter (start_time != \"NA\", end_time != \"NA\")\n",
    "\n",
    "#Convert start_time and end_time to a proper date-time format that R recognizes as dates and times. \n",
    " playdate_time <- playdate_no_NA |>\n",
    "mutate (start_time = as.POSIXct (start_time, format = \"%d/%m/%Y %H:%M\")) |>\n",
    "mutate (end_time = as.POSIXct (end_time, format = \"%d/%m/%Y %H:%M\"))\n",
    "\n",
    "#Obtain the difference varaible in start and end time with the difftime() function\n",
    "playdate_diff <- playdate_time |>\n",
    "mutate (difference = difftime (end_time, start_time, units = \"mins\"))\n",
    "\n",
    "#Reorder the data frame in descending order to get a better scope of what we're dealing with\n",
    "playdate_arrange <- playdate_diff |>\n",
    "arrange (by = desc(played_hours))\n",
    "\n",
    "#Finally, display the first 5 rows and last 5 rows\n",
    "head (playdate_arrange)\n",
    "tail (playdate_arrange)\n",
    "\n",
    "#I'll stop here cause I don't know what we want to do next. \n"
   ]
  },
  {
   "cell_type": "code",
   "execution_count": 53,
   "id": "454b137b-d4ee-4dd6-a921-ee4c62688270",
   "metadata": {
    "scrolled": true
   },
   "outputs": [
    {
     "data": {
      "text/html": [
       "<table class=\"dataframe\">\n",
       "<caption>A data.frame: 6 × 6</caption>\n",
       "<thead>\n",
       "\t<tr><th></th><th scope=col>experience</th><th scope=col>played_hours</th><th scope=col>age</th><th scope=col>start_time</th><th scope=col>end_time</th><th scope=col>difference</th></tr>\n",
       "\t<tr><th></th><th scope=col>&lt;dbl&gt;</th><th scope=col>&lt;dbl&gt;</th><th scope=col>&lt;dbl&gt;</th><th scope=col>&lt;dttm&gt;</th><th scope=col>&lt;dttm&gt;</th><th scope=col>&lt;drtn&gt;</th></tr>\n",
       "</thead>\n",
       "<tbody>\n",
       "\t<tr><th scope=row>1</th><td>3</td><td>223.1</td><td>17</td><td>2024-06-14 04:13:00</td><td>2024-06-14 05:31:00</td><td> 78 mins</td></tr>\n",
       "\t<tr><th scope=row>2</th><td>3</td><td>223.1</td><td>17</td><td>2024-05-07 00:25:00</td><td>2024-05-07 01:41:00</td><td> 76 mins</td></tr>\n",
       "\t<tr><th scope=row>3</th><td>3</td><td>223.1</td><td>17</td><td>2024-06-23 15:08:00</td><td>2024-06-23 17:10:00</td><td>122 mins</td></tr>\n",
       "\t<tr><th scope=row>⋮</th><td>⋮</td><td>⋮</td><td>⋮</td><td>⋮</td><td>⋮</td><td>⋮</td></tr>\n",
       "\t<tr><th scope=row>5</th><td>3</td><td>223.1</td><td>17</td><td>2024-06-17 02:25:00</td><td>2024-06-17 03:38:00</td><td>73 mins</td></tr>\n",
       "\t<tr><th scope=row>6</th><td>3</td><td>223.1</td><td>17</td><td>2024-08-19 03:52:00</td><td>2024-08-19 04:48:00</td><td>56 mins</td></tr>\n",
       "</tbody>\n",
       "</table>\n"
      ],
      "text/latex": [
       "A data.frame: 6 × 6\n",
       "\\begin{tabular}{r|llllll}\n",
       "  & experience & played\\_hours & age & start\\_time & end\\_time & difference\\\\\n",
       "  & <dbl> & <dbl> & <dbl> & <dttm> & <dttm> & <drtn>\\\\\n",
       "\\hline\n",
       "\t1 & 3 & 223.1 & 17 & 2024-06-14 04:13:00 & 2024-06-14 05:31:00 &  78 mins\\\\\n",
       "\t2 & 3 & 223.1 & 17 & 2024-05-07 00:25:00 & 2024-05-07 01:41:00 &  76 mins\\\\\n",
       "\t3 & 3 & 223.1 & 17 & 2024-06-23 15:08:00 & 2024-06-23 17:10:00 & 122 mins\\\\\n",
       "\t⋮ & ⋮ & ⋮ & ⋮ & ⋮ & ⋮ & ⋮\\\\\n",
       "\t5 & 3 & 223.1 & 17 & 2024-06-17 02:25:00 & 2024-06-17 03:38:00 & 73 mins\\\\\n",
       "\t6 & 3 & 223.1 & 17 & 2024-08-19 03:52:00 & 2024-08-19 04:48:00 & 56 mins\\\\\n",
       "\\end{tabular}\n"
      ],
      "text/markdown": [
       "\n",
       "A data.frame: 6 × 6\n",
       "\n",
       "| <!--/--> | experience &lt;dbl&gt; | played_hours &lt;dbl&gt; | age &lt;dbl&gt; | start_time &lt;dttm&gt; | end_time &lt;dttm&gt; | difference &lt;drtn&gt; |\n",
       "|---|---|---|---|---|---|---|\n",
       "| 1 | 3 | 223.1 | 17 | 2024-06-14 04:13:00 | 2024-06-14 05:31:00 |  78 mins |\n",
       "| 2 | 3 | 223.1 | 17 | 2024-05-07 00:25:00 | 2024-05-07 01:41:00 |  76 mins |\n",
       "| 3 | 3 | 223.1 | 17 | 2024-06-23 15:08:00 | 2024-06-23 17:10:00 | 122 mins |\n",
       "| ⋮ | ⋮ | ⋮ | ⋮ | ⋮ | ⋮ | ⋮ |\n",
       "| 5 | 3 | 223.1 | 17 | 2024-06-17 02:25:00 | 2024-06-17 03:38:00 | 73 mins |\n",
       "| 6 | 3 | 223.1 | 17 | 2024-08-19 03:52:00 | 2024-08-19 04:48:00 | 56 mins |\n",
       "\n"
      ],
      "text/plain": [
       "  experience played_hours age start_time          end_time           \n",
       "1 3          223.1        17  2024-06-14 04:13:00 2024-06-14 05:31:00\n",
       "2 3          223.1        17  2024-05-07 00:25:00 2024-05-07 01:41:00\n",
       "3 3          223.1        17  2024-06-23 15:08:00 2024-06-23 17:10:00\n",
       "⋮ ⋮          ⋮            ⋮   ⋮                   ⋮                  \n",
       "5 3          223.1        17  2024-06-17 02:25:00 2024-06-17 03:38:00\n",
       "6 3          223.1        17  2024-08-19 03:52:00 2024-08-19 04:48:00\n",
       "  difference\n",
       "1  78 mins  \n",
       "2  76 mins  \n",
       "3 122 mins  \n",
       "⋮ ⋮         \n",
       "5 73 mins   \n",
       "6 56 mins   "
      ]
     },
     "metadata": {},
     "output_type": "display_data"
    }
   ],
   "source": [
    "#Numbering experience levels off \n",
    "play_data_edit <- playdate_arrange |>\n",
    "mutate(experience =case_when(experience==\"Veteran\" ~ 5, experience==\"Pro\" ~ 4, experience==\"Regular\" ~ 3,experience==\"Amateur\" ~ 2, experience == \"Beginner\" ~ 1))\n",
    "head(play_data_edit)"
   ]
  },
  {
   "cell_type": "code",
   "execution_count": 8,
   "id": "7aaedeab-189a-4122-9bb2-03b63d1be980",
   "metadata": {},
   "outputs": [
    {
     "data": {
      "text/html": [
       "<table class=\"dataframe\">\n",
       "<caption>A data.frame: 1535 × 3</caption>\n",
       "<thead>\n",
       "\t<tr><th scope=col>experience</th><th scope=col>played_hours</th><th scope=col>age</th></tr>\n",
       "\t<tr><th scope=col>&lt;dbl&gt;</th><th scope=col>&lt;dbl&gt;</th><th scope=col>&lt;dbl&gt;</th></tr>\n",
       "</thead>\n",
       "<tbody>\n",
       "\t<tr><td>3</td><td>1.5</td><td>20</td></tr>\n",
       "\t<tr><td>3</td><td>1.5</td><td>20</td></tr>\n",
       "\t<tr><td>4</td><td>0.4</td><td>21</td></tr>\n",
       "\t<tr><td>⋮</td><td>⋮</td><td>⋮</td></tr>\n",
       "\t<tr><td>2</td><td>0.1</td><td>17</td></tr>\n",
       "\t<tr><td>1</td><td>1.1</td><td>20</td></tr>\n",
       "</tbody>\n",
       "</table>\n"
      ],
      "text/latex": [
       "A data.frame: 1535 × 3\n",
       "\\begin{tabular}{lll}\n",
       " experience & played\\_hours & age\\\\\n",
       " <dbl> & <dbl> & <dbl>\\\\\n",
       "\\hline\n",
       "\t 3 & 1.5 & 20\\\\\n",
       "\t 3 & 1.5 & 20\\\\\n",
       "\t 4 & 0.4 & 21\\\\\n",
       "\t ⋮ & ⋮ & ⋮\\\\\n",
       "\t 2 & 0.1 & 17\\\\\n",
       "\t 1 & 1.1 & 20\\\\\n",
       "\\end{tabular}\n"
      ],
      "text/markdown": [
       "\n",
       "A data.frame: 1535 × 3\n",
       "\n",
       "| experience &lt;dbl&gt; | played_hours &lt;dbl&gt; | age &lt;dbl&gt; |\n",
       "|---|---|---|\n",
       "| 3 | 1.5 | 20 |\n",
       "| 3 | 1.5 | 20 |\n",
       "| 4 | 0.4 | 21 |\n",
       "| ⋮ | ⋮ | ⋮ |\n",
       "| 2 | 0.1 | 17 |\n",
       "| 1 | 1.1 | 20 |\n",
       "\n"
      ],
      "text/plain": [
       "     experience played_hours age\n",
       "1    3          1.5          20 \n",
       "2    3          1.5          20 \n",
       "3    4          0.4          21 \n",
       "⋮    ⋮          ⋮            ⋮  \n",
       "1534 2          0.1          17 \n",
       "1535 1          1.1          20 "
      ]
     },
     "metadata": {},
     "output_type": "display_data"
    }
   ],
   "source": [
    "#since we are using knn- regression and we only need columns experience, age, and played_hours, I will select those to make a smaller dataset.\n",
    "playdata_final <- play_data_edit |>\n",
    "select(experience, played_hours, age)\n",
    "playdata_final"
   ]
  },
  {
   "cell_type": "markdown",
   "id": "b077408d-30c3-4748-9747-68e114c22f8a",
   "metadata": {},
   "source": [
    "## Discussion"
   ]
  },
  {
   "cell_type": "markdown",
   "id": "87fc8ec8-67f2-4139-b21c-77b56977b69f",
   "metadata": {},
   "source": [
    "Further research could be done on how to identify or classify a player as one of the five types. For example, what makes a specific player a pro level? An amateur level?"
   ]
  },
  {
   "cell_type": "markdown",
   "id": "390c85dd-faca-4d53-b981-95ad078d165a",
   "metadata": {},
   "source": [
    "## References"
   ]
  },
  {
   "cell_type": "markdown",
   "id": "8e33ec88-3c57-4f3f-b1ce-84fab3eebb26",
   "metadata": {},
   "source": [
    "For the merge function: https://stackoverflow.com/questions/1299871/how-to-join-merge-data-frames-inner-outer-left-right\n",
    "\n",
    "For POSIXct: https://stackoverflow.com/questions/43460329/converting-datetime-from-character-to-posixct-object\n",
    "\n",
    "For difftime() function: https://www.statology.org/r-difftime-function/#:~:text=You%20can%20use%20the%20difftime,dates%20or%20datetimes%20in%20R.&text=where%3A,%E2%80%9D%2C%20and%20%E2%80%9Cweeks%E2%80%9D)"
   ]
  },
  {
   "cell_type": "code",
   "execution_count": null,
   "id": "e4c998c4-fd3b-4611-a903-b187e1d7a74e",
   "metadata": {},
   "outputs": [],
   "source": []
  }
 ],
 "metadata": {
  "kernelspec": {
   "display_name": "R",
   "language": "R",
   "name": "ir"
  },
  "language_info": {
   "codemirror_mode": "r",
   "file_extension": ".r",
   "mimetype": "text/x-r-source",
   "name": "R",
   "pygments_lexer": "r",
   "version": "4.3.3"
  }
 },
 "nbformat": 4,
 "nbformat_minor": 5
}
